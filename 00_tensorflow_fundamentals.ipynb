{
  "nbformat": 4,
  "nbformat_minor": 0,
  "metadata": {
    "colab": {
      "provenance": [],
      "authorship_tag": "ABX9TyOU/EXIYKxGcfaDlHvk/4sV",
      "include_colab_link": true
    },
    "kernelspec": {
      "name": "python3",
      "display_name": "Python 3"
    },
    "language_info": {
      "name": "python"
    }
  },
  "cells": [
    {
      "cell_type": "markdown",
      "metadata": {
        "id": "view-in-github",
        "colab_type": "text"
      },
      "source": [
        "<a href=\"https://colab.research.google.com/github/giossaurus/tensorflow-deep-learning-studies/blob/main/00_tensorflow_fundamentals.ipynb\" target=\"_parent\"><img src=\"https://colab.research.google.com/assets/colab-badge.svg\" alt=\"Open In Colab\"/></a>"
      ]
    },
    {
      "cell_type": "markdown",
      "source": [
        "Tópicos desse caderno:\n",
        "- Introdução aos tensores\n",
        "- Pegar as info dos tensores\n",
        "- Manipular tensores\n",
        "- Tensores e NumPy\n",
        "- Usa da @tf.function\n",
        "- Uso de GPUs ou TPUs com TensorFlow\n",
        "- Exercicios"
      ],
      "metadata": {
        "id": "QIqUjxKY6szu"
      }
    },
    {
      "cell_type": "code",
      "source": [
        "import tensorflow as tf\n",
        "print(tf.__version__)"
      ],
      "metadata": {
        "colab": {
          "base_uri": "https://localhost:8080/"
        },
        "id": "l5o22-8l7ENY",
        "outputId": "749e4b71-6357-4190-b87c-f85962664590"
      },
      "execution_count": 2,
      "outputs": [
        {
          "output_type": "stream",
          "name": "stdout",
          "text": [
            "2.19.0\n"
          ]
        }
      ]
    },
    {
      "cell_type": "code",
      "source": [
        "#Criando tensores com tf.constant()\n",
        "scalar = tf.constant(7)\n",
        "scalar"
      ],
      "metadata": {
        "colab": {
          "base_uri": "https://localhost:8080/"
        },
        "id": "QRA94Tqb7ZgG",
        "outputId": "30cf78ff-bea8-48ea-817f-11ada430b5cc"
      },
      "execution_count": 3,
      "outputs": [
        {
          "output_type": "execute_result",
          "data": {
            "text/plain": [
              "<tf.Tensor: shape=(), dtype=int32, numpy=7>"
            ]
          },
          "metadata": {},
          "execution_count": 3
        }
      ]
    },
    {
      "cell_type": "code",
      "source": [
        "#Numero de dimensoes do tensor (ndim)\n",
        "scalar.ndim"
      ],
      "metadata": {
        "colab": {
          "base_uri": "https://localhost:8080/"
        },
        "id": "oXwFrPH772OG",
        "outputId": "2cea66c3-d85b-4814-f7ce-70afe9b1a462"
      },
      "execution_count": 4,
      "outputs": [
        {
          "output_type": "execute_result",
          "data": {
            "text/plain": [
              "0"
            ]
          },
          "metadata": {},
          "execution_count": 4
        }
      ]
    },
    {
      "cell_type": "code",
      "source": [
        "#Criando um vetor\n",
        "vector = tf.constant([10,10])\n",
        "vector"
      ],
      "metadata": {
        "colab": {
          "base_uri": "https://localhost:8080/"
        },
        "id": "_oDApZBp8DXz",
        "outputId": "6660468f-39a6-4cbf-81af-e1a6f4db1eab"
      },
      "execution_count": 5,
      "outputs": [
        {
          "output_type": "execute_result",
          "data": {
            "text/plain": [
              "<tf.Tensor: shape=(2,), dtype=int32, numpy=array([10, 10], dtype=int32)>"
            ]
          },
          "metadata": {},
          "execution_count": 5
        }
      ]
    },
    {
      "cell_type": "code",
      "source": [
        "#Dimensão do vetor\n",
        "vector.ndim"
      ],
      "metadata": {
        "colab": {
          "base_uri": "https://localhost:8080/"
        },
        "id": "kSWJBpSS8Pjy",
        "outputId": "e2c6a965-0997-4b24-a9bf-dad0fe0aef19"
      },
      "execution_count": 6,
      "outputs": [
        {
          "output_type": "execute_result",
          "data": {
            "text/plain": [
              "1"
            ]
          },
          "metadata": {},
          "execution_count": 6
        }
      ]
    },
    {
      "cell_type": "code",
      "source": [
        "#Matriz\n",
        "matrix = tf.constant([[10, 7],\n",
        "                     [7, 10]])\n",
        "matrix"
      ],
      "metadata": {
        "colab": {
          "base_uri": "https://localhost:8080/"
        },
        "id": "l6MSy5D_8T3i",
        "outputId": "30606e3a-e903-4060-eed9-d38a4849b0fd"
      },
      "execution_count": 7,
      "outputs": [
        {
          "output_type": "execute_result",
          "data": {
            "text/plain": [
              "<tf.Tensor: shape=(2, 2), dtype=int32, numpy=\n",
              "array([[10,  7],\n",
              "       [ 7, 10]], dtype=int32)>"
            ]
          },
          "metadata": {},
          "execution_count": 7
        }
      ]
    },
    {
      "cell_type": "code",
      "source": [
        "matrix.ndim"
      ],
      "metadata": {
        "colab": {
          "base_uri": "https://localhost:8080/"
        },
        "id": "eIXMVM2E8qex",
        "outputId": "2895d55c-044d-4f14-af27-a81cc1f115bb"
      },
      "execution_count": 8,
      "outputs": [
        {
          "output_type": "execute_result",
          "data": {
            "text/plain": [
              "2"
            ]
          },
          "metadata": {},
          "execution_count": 8
        }
      ]
    },
    {
      "cell_type": "code",
      "source": [
        "#Segunda matriz\n",
        "another_matrix = tf.constant([[10.,7.],\n",
        "                              [3.,2.],\n",
        "                              [8.,9.]], dtype=tf.float16)\n",
        "another_matrix"
      ],
      "metadata": {
        "colab": {
          "base_uri": "https://localhost:8080/"
        },
        "id": "2pKCPxa28zBX",
        "outputId": "4d6fbd1b-9ef6-43fd-dd81-b121be262df6"
      },
      "execution_count": 9,
      "outputs": [
        {
          "output_type": "execute_result",
          "data": {
            "text/plain": [
              "<tf.Tensor: shape=(3, 2), dtype=float16, numpy=\n",
              "array([[10.,  7.],\n",
              "       [ 3.,  2.],\n",
              "       [ 8.,  9.]], dtype=float16)>"
            ]
          },
          "metadata": {},
          "execution_count": 9
        }
      ]
    },
    {
      "cell_type": "code",
      "source": [
        "another_matrix.ndim"
      ],
      "metadata": {
        "colab": {
          "base_uri": "https://localhost:8080/"
        },
        "id": "-14KXNTs9haw",
        "outputId": "ea4f1d2d-c82e-42a5-bb86-b0cee4101dd9"
      },
      "execution_count": 10,
      "outputs": [
        {
          "output_type": "execute_result",
          "data": {
            "text/plain": [
              "2"
            ]
          },
          "metadata": {},
          "execution_count": 10
        }
      ]
    },
    {
      "cell_type": "code",
      "source": [
        "#Criando um tensor\n",
        "#scaler tem 0 dim\n",
        "#vector tem 1 dim\n",
        "#matriz tem 2 dim\n",
        "#tensor tem 3 ou mais\n",
        "\n",
        "tensor = tf.constant([[[1, 2, 3,],\n",
        "                       [4, 5, 6]],\n",
        "                      [[7, 8, 9],\n",
        "                       [10, 11, 12]],\n",
        "                      [[13, 14, 15],\n",
        "                       [16, 17, 18]]])\n",
        "tensor"
      ],
      "metadata": {
        "colab": {
          "base_uri": "https://localhost:8080/"
        },
        "id": "bntZQhXU9o6E",
        "outputId": "acbd4b80-5776-401d-deb2-793665790283"
      },
      "execution_count": 11,
      "outputs": [
        {
          "output_type": "execute_result",
          "data": {
            "text/plain": [
              "<tf.Tensor: shape=(3, 2, 3), dtype=int32, numpy=\n",
              "array([[[ 1,  2,  3],\n",
              "        [ 4,  5,  6]],\n",
              "\n",
              "       [[ 7,  8,  9],\n",
              "        [10, 11, 12]],\n",
              "\n",
              "       [[13, 14, 15],\n",
              "        [16, 17, 18]]], dtype=int32)>"
            ]
          },
          "metadata": {},
          "execution_count": 11
        }
      ]
    },
    {
      "cell_type": "code",
      "source": [
        "tensor.ndim"
      ],
      "metadata": {
        "colab": {
          "base_uri": "https://localhost:8080/"
        },
        "id": "8xwwp74b-Z9m",
        "outputId": "53ff49d0-5611-4dfc-d7fa-3932245fc210"
      },
      "execution_count": 12,
      "outputs": [
        {
          "output_type": "execute_result",
          "data": {
            "text/plain": [
              "3"
            ]
          },
          "metadata": {},
          "execution_count": 12
        }
      ]
    },
    {
      "cell_type": "markdown",
      "source": [
        "- Scalar é um numero singular\n",
        "- Vector é um numero com direção (ex.: velocidade e direção do vento)\n",
        "- Matrix é um array bi-dimensional de números\n",
        "- Tensor é um array de números n-dimensional (onde n pode ser qualquer número, um tensor 0-dim é um scaler, um tensor 1-dim é um vector)"
      ],
      "metadata": {
        "id": "_IBPAWWf-t5N"
      }
    },
    {
      "cell_type": "code",
      "source": [
        "#Criando tensores com tf.Variable\n",
        "tf.Variable"
      ],
      "metadata": {
        "id": "6Qyx4RL8wmb7",
        "outputId": "3b7a9d6f-ed66-40af-9e11-b37b4a6a0e3c",
        "colab": {
          "base_uri": "https://localhost:8080/",
          "height": 187
        }
      },
      "execution_count": 14,
      "outputs": [
        {
          "output_type": "execute_result",
          "data": {
            "text/plain": [
              "tensorflow.python.ops.variables.Variable"
            ],
            "text/html": [
              "<div style=\"max-width:800px; border: 1px solid var(--colab-border-color);\"><style>\n",
              "      pre.function-repr-contents {\n",
              "        overflow-x: auto;\n",
              "        padding: 8px 12px;\n",
              "        max-height: 500px;\n",
              "      }\n",
              "\n",
              "      pre.function-repr-contents.function-repr-contents-collapsed {\n",
              "        cursor: pointer;\n",
              "        max-height: 100px;\n",
              "      }\n",
              "    </style>\n",
              "    <pre style=\"white-space: initial; background:\n",
              "         var(--colab-secondary-surface-color); padding: 8px 12px;\n",
              "         border-bottom: 1px solid var(--colab-border-color);\"><b>tensorflow.python.ops.variables.Variable</b><br/>def error_handler(*args, **kwargs)</pre><pre class=\"function-repr-contents function-repr-contents-collapsed\" style=\"\"><a class=\"filepath\" style=\"display:none\" href=\"#\">/usr/local/lib/python3.12/dist-packages/tensorflow/python/ops/variables.py</a>See the [variable guide](https://tensorflow.org/guide/variable).\n",
              "\n",
              "A variable maintains shared, persistent state manipulated by a program.\n",
              "\n",
              "The `Variable()` constructor requires an initial value for the variable, which\n",
              "can be a `Tensor` of any type and shape. This initial value defines the type\n",
              "and shape of the variable. After construction, the type and shape of the\n",
              "variable are fixed. The value can be changed using one of the assign methods.\n",
              "\n",
              "&gt;&gt;&gt; v = tf.Variable(1.)\n",
              "&gt;&gt;&gt; v.assign(2.)\n",
              "&lt;tf.Variable ... shape=() dtype=float32, numpy=2.0&gt;\n",
              "&gt;&gt;&gt; v.assign_add(0.5)\n",
              "&lt;tf.Variable ... shape=() dtype=float32, numpy=2.5&gt;\n",
              "\n",
              "The `shape` argument to `Variable`&#x27;s constructor allows you to construct a\n",
              "variable with a less defined shape than its `initial_value`:\n",
              "\n",
              "&gt;&gt;&gt; v = tf.Variable(1., shape=tf.TensorShape(None))\n",
              "&gt;&gt;&gt; v.assign([[1.]])\n",
              "&lt;tf.Variable ... shape=&lt;unknown&gt; dtype=float32, numpy=array([[1.]], ...)&gt;\n",
              "\n",
              "Just like any `Tensor`, variables created with `Variable()` can be used as\n",
              "inputs to operations. Additionally, all the operators overloaded for the\n",
              "`Tensor` class are carried over to variables.\n",
              "\n",
              "&gt;&gt;&gt; w = tf.Variable([[1.], [2.]])\n",
              "&gt;&gt;&gt; x = tf.constant([[3., 4.]])\n",
              "&gt;&gt;&gt; tf.matmul(w, x)\n",
              "&lt;tf.Tensor:... shape=(2, 2), ... numpy=\n",
              "  array([[3., 4.],\n",
              "         [6., 8.]], dtype=float32)&gt;\n",
              "&gt;&gt;&gt; tf.sigmoid(w + x)\n",
              "&lt;tf.Tensor:... shape=(2, 2), ...&gt;\n",
              "\n",
              "When building a machine learning model it is often convenient to distinguish\n",
              "between variables holding trainable model parameters and other variables such\n",
              "as a `step` variable used to count training steps. To make this easier, the\n",
              "variable constructor supports a `trainable=&lt;bool&gt;`\n",
              "parameter. `tf.GradientTape` watches trainable variables by default:\n",
              "\n",
              "&gt;&gt;&gt; with tf.GradientTape(persistent=True) as tape:\n",
              "...   trainable = tf.Variable(1.)\n",
              "...   non_trainable = tf.Variable(2., trainable=False)\n",
              "...   x1 = trainable * 2.\n",
              "...   x2 = non_trainable * 3.\n",
              "&gt;&gt;&gt; tape.gradient(x1, trainable)\n",
              "&lt;tf.Tensor:... shape=(), dtype=float32, numpy=2.0&gt;\n",
              "&gt;&gt;&gt; assert tape.gradient(x2, non_trainable) is None  # Unwatched\n",
              "\n",
              "Variables are automatically tracked when assigned to attributes of types\n",
              "inheriting from `tf.Module`.\n",
              "\n",
              "&gt;&gt;&gt; m = tf.Module()\n",
              "&gt;&gt;&gt; m.v = tf.Variable([1.])\n",
              "&gt;&gt;&gt; m.trainable_variables\n",
              "(&lt;tf.Variable ... shape=(1,) ... numpy=array([1.], dtype=float32)&gt;,)\n",
              "\n",
              "This tracking then allows saving variable values to\n",
              "[training checkpoints](https://www.tensorflow.org/guide/checkpoint), or to\n",
              "[SavedModels](https://www.tensorflow.org/guide/saved_model) which include\n",
              "serialized TensorFlow graphs.\n",
              "\n",
              "Variables are often captured and manipulated by `tf.function`s. This works the\n",
              "same way the un-decorated function would have:\n",
              "\n",
              "&gt;&gt;&gt; v = tf.Variable(0.)\n",
              "&gt;&gt;&gt; read_and_decrement = tf.function(lambda: v.assign_sub(0.1))\n",
              "&gt;&gt;&gt; read_and_decrement()\n",
              "&lt;tf.Tensor: shape=(), dtype=float32, numpy=-0.1&gt;\n",
              "&gt;&gt;&gt; read_and_decrement()\n",
              "&lt;tf.Tensor: shape=(), dtype=float32, numpy=-0.2&gt;\n",
              "\n",
              "Variables created inside a `tf.function` must be owned outside the function\n",
              "and be created only once:\n",
              "\n",
              "&gt;&gt;&gt; class M(tf.Module):\n",
              "...   @tf.function\n",
              "...   def __call__(self, x):\n",
              "...     if not hasattr(self, &quot;v&quot;):  # Or set self.v to None in __init__\n",
              "...       self.v = tf.Variable(x)\n",
              "...     return self.v * x\n",
              "&gt;&gt;&gt; m = M()\n",
              "&gt;&gt;&gt; m(2.)\n",
              "&lt;tf.Tensor: shape=(), dtype=float32, numpy=4.0&gt;\n",
              "&gt;&gt;&gt; m(3.)\n",
              "&lt;tf.Tensor: shape=(), dtype=float32, numpy=6.0&gt;\n",
              "&gt;&gt;&gt; m.v\n",
              "&lt;tf.Variable ... shape=() dtype=float32, numpy=2.0&gt;\n",
              "\n",
              "See the `tf.function` documentation for details.</pre>\n",
              "      <script>\n",
              "      if (google.colab.kernel.accessAllowed && google.colab.files && google.colab.files.view) {\n",
              "        for (const element of document.querySelectorAll('.filepath')) {\n",
              "          element.style.display = 'block'\n",
              "          element.onclick = (event) => {\n",
              "            event.preventDefault();\n",
              "            event.stopPropagation();\n",
              "            google.colab.files.view(element.textContent, 204);\n",
              "          };\n",
              "        }\n",
              "      }\n",
              "      for (const element of document.querySelectorAll('.function-repr-contents')) {\n",
              "        element.onclick = (event) => {\n",
              "          event.preventDefault();\n",
              "          event.stopPropagation();\n",
              "          element.classList.toggle('function-repr-contents-collapsed');\n",
              "        };\n",
              "      }\n",
              "      </script>\n",
              "      </div>"
            ]
          },
          "metadata": {},
          "execution_count": 14
        }
      ]
    }
  ]
}